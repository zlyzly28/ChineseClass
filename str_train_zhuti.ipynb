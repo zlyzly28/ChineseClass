{
 "cells": [
  {
   "cell_type": "code",
   "execution_count": 1,
   "id": "026d3eca-7c02-4812-b326-4263dfa1a3e3",
   "metadata": {
    "execution": {
     "iopub.execute_input": "2024-07-16T06:50:42.523320Z",
     "iopub.status.busy": "2024-07-16T06:50:42.522968Z",
     "iopub.status.idle": "2024-07-16T06:50:43.810757Z",
     "shell.execute_reply": "2024-07-16T06:50:43.810190Z",
     "shell.execute_reply.started": "2024-07-16T06:50:42.523303Z"
    },
    "tags": []
   },
   "outputs": [
    {
     "name": "stdout",
     "output_type": "stream",
     "text": [
      "Vocab size: 12678\n"
     ]
    },
    {
     "name": "stderr",
     "output_type": "stream",
     "text": [
      "8000it [00:00, 46144.24it/s]\n",
      "2653it [00:00, 70001.81it/s]\n"
     ]
    }
   ],
   "source": [
    "# coding: UTF-8\n",
    "import os\n",
    "import torch\n",
    "import numpy as np\n",
    "import pickle as pkl\n",
    "from tqdm import tqdm\n",
    "import time\n",
    "from datetime import timedelta\n",
    "import time\n",
    "import torch\n",
    "import numpy as np\n",
    "from train_eval import train, init_network\n",
    "from importlib import import_module\n",
    "import argparse\n",
    "dataset = 'Newtrain'  # 数据集\n",
    "\n",
    "# 搜狗新闻:embedding_SougouNews.npz, 腾讯:embedding_Tencent.npz, 随机初始化:random\n",
    "embedding = 'embedding_Newtrain_300.npz'\n",
    "\n",
    "model_name = 'TextRCNN'  # 'TextRCNN'  # TextCNN, TextRNN, FastText, TextRCNN, TextRNN_Att, DPCNN, Transformer\n",
    "\n",
    "\n",
    "x = import_module('models.' + model_name)\n",
    "config = x.Config(dataset, embedding)\n",
    "config.pad_size = 64\n",
    "\n",
    "MAX_VOCAB_SIZE = 20000  # 词表长度限制\n",
    "UNK, PAD = '<UNK>', '<PAD>'  # 未知字，padding符号\n",
    "ues_word = True\n",
    "from utils import get_time_dif, build_vocab, build_dataset2, build_iterator2\n",
    "\n",
    "\n",
    "vocab, train, test = build_dataset2(config, ues_word)"
   ]
  },
  {
   "cell_type": "code",
   "execution_count": 2,
   "id": "024f70f5-cb84-407e-baaa-5c223f6d5490",
   "metadata": {
    "execution": {
     "iopub.execute_input": "2024-07-16T06:50:44.893158Z",
     "iopub.status.busy": "2024-07-16T06:50:44.892802Z",
     "iopub.status.idle": "2024-07-16T06:50:44.910905Z",
     "shell.execute_reply": "2024-07-16T06:50:44.910259Z",
     "shell.execute_reply.started": "2024-07-16T06:50:44.893136Z"
    },
    "tags": []
   },
   "outputs": [
    {
     "name": "stdout",
     "output_type": "stream",
     "text": [
      "<bound method Module.parameters of Model(\n",
      "  (embedding): Embedding(12678, 300)\n",
      "  (lstm): LSTM(300, 256, batch_first=True, dropout=1.0, bidirectional=True)\n",
      "  (maxpool): MaxPool1d(kernel_size=64, stride=64, padding=0, dilation=1, ceil_mode=False)\n",
      "  (fc): Linear(in_features=812, out_features=10, bias=True)\n",
      ")>\n"
     ]
    },
    {
     "name": "stderr",
     "output_type": "stream",
     "text": [
      "/opt/conda/lib/python3.7/site-packages/torch/nn/modules/rnn.py:65: UserWarning: dropout option adds dropout after all but last recurrent layer, so non-zero dropout expects num_layers greater than 1, but got dropout=1.0 and num_layers=1\n",
      "  \"num_layers={}\".format(dropout, num_layers))\n"
     ]
    }
   ],
   "source": [
    "import torch.nn.functional as F\n",
    "\n",
    "\n",
    "train_iter = build_iterator2(train, config)\n",
    "test_iter = build_iterator2(test, config)\n",
    "# train_iter.__next__()\n",
    "config.n_vocab = len(vocab)\n",
    "model = x.Model(config).to(config.device)\n",
    "if model_name != 'Transformer':\n",
    "    init_network(model)\n",
    "print(model.parameters)"
   ]
  },
  {
   "cell_type": "code",
   "execution_count": null,
   "id": "531bd1d1-929e-4131-9980-de0e908199a0",
   "metadata": {
    "ExecutionIndicator": {
     "show": true
    },
    "execution": {
     "iopub.execute_input": "2024-07-16T06:50:46.978078Z",
     "iopub.status.busy": "2024-07-16T06:50:46.977342Z"
    },
    "tags": []
   },
   "outputs": [
    {
     "name": "stdout",
     "output_type": "stream",
     "text": [
      "Epoch [1/10]\n",
      "Iter:      0,  Train Loss:  0.82,  Train Acc: 36.88%,  Val Loss:  0.59,  Val Acc: 66.58%,  Time: 0:15:04 *improve\n",
      "Iter:      0,  Train precision: 38.26%,  Train recall: 45.49%,  Val precision: 48.67%,  Val recall: 47.36%,  Time: 0:15:04 *improve\n"
     ]
    }
   ],
   "source": [
    "import numpy as np\n",
    "import torch\n",
    "import json\n",
    "import torch.nn as nn\n",
    "import torch.nn.functional as F\n",
    "from sklearn import metrics\n",
    "import time\n",
    "from utils import get_time_dif\n",
    "from tensorboardX import SummaryWriter\n",
    "from collections import defaultdict\n",
    "from train_eval import train_zhuti\n",
    "train_zhuti(config, model, train_iter, test_iter)"
   ]
  },
  {
   "cell_type": "code",
   "execution_count": null,
   "id": "122d4c1a-5527-4018-93ea-9cd28ba9d590",
   "metadata": {},
   "outputs": [],
   "source": [
    "import json\n",
    "\n",
    "with open(config.log_path + '/train_dict.json', 'r', encoding='utf-8') as file:\n",
    "    train_dict = json.load(file)\n",
    "with open(config.log_path + '/test_dict.json', 'r', encoding='utf-8') as file:\n",
    "    test_dict = json.load(file)\n"
   ]
  },
  {
   "cell_type": "code",
   "execution_count": null,
   "id": "109cfd7b-5adf-4678-9db2-95738019feeb",
   "metadata": {},
   "outputs": [],
   "source": [
    "import matplotlib.pyplot as plt\n",
    "\n",
    "epochs = range(1, len(train_dict['train_loss']) + 1)\n",
    "# 设置2行3列的子图布局，因为只有5个指标，所以最后一列会空出来\n",
    "fig, axs = plt.subplots(2, 3, figsize=(10, 5), sharex=True)\n",
    "# Flatten axs to easily iterate over it in case of more than one column\n",
    "axs = axs.flatten()\n",
    "for i, (key, values) in enumerate(train_dict.items()):\n",
    "    axs[i].plot(epochs, values, marker='o', label=key)\n",
    "    axs[i].set_ylabel(key)\n",
    "    axs[i].set_title(key)  # 添加标题以替代右侧的图例，避免重叠\n",
    "    axs[i].grid(True)\n",
    "\n",
    "# 隐藏空的子图\n",
    "for ax in axs[len(train_dict):]:\n",
    "    ax.axis('off')\n",
    "axs[-1].set_xlabel('Epochs')\n",
    "plt.tight_layout(rect=[0, 0.03, 1, 0.95])  # 调整布局，留出顶部空间给title或者避免紧凑\n",
    "plt.show()"
   ]
  },
  {
   "cell_type": "code",
   "execution_count": null,
   "id": "2cbf5890-f6d9-4200-8898-2247d2ab3b3f",
   "metadata": {},
   "outputs": [],
   "source": [
    "import matplotlib.pyplot as plt\n",
    "\n",
    "epochs = range(1, len(test_dict['dev_loss']) + 1)\n",
    "# 设置2行3列的子图布局，因为只有5个指标，所以最后一列会空出来\n",
    "fig, axs = plt.subplots(2, 3, figsize=(10, 5), sharex=True)\n",
    "# Flatten axs to easily iterate over it in case of more than one column\n",
    "axs = axs.flatten()\n",
    "for i, (key, values) in enumerate(test_dict.items()):\n",
    "    axs[i].plot(epochs, values, marker='o', label=key)\n",
    "    axs[i].set_ylabel(key)\n",
    "    axs[i].set_title(key)  # 添加标题以替代右侧的图例，避免重叠\n",
    "    axs[i].grid(True)\n",
    "\n",
    "# 隐藏空的子图\n",
    "for ax in axs[len(test_dict):]:\n",
    "    ax.axis('off')\n",
    "axs[-1].set_xlabel('Epochs')\n",
    "plt.tight_layout(rect=[0, 0.03, 1, 0.95])  # 调整布局，留出顶部空间给title或者避免紧凑\n",
    "plt.show()"
   ]
  }
 ],
 "metadata": {
  "kernelspec": {
   "display_name": "Python 3 (ipykernel)",
   "language": "python",
   "name": "python3"
  },
  "language_info": {
   "codemirror_mode": {
    "name": "ipython",
    "version": 3
   },
   "file_extension": ".py",
   "mimetype": "text/x-python",
   "name": "python",
   "nbconvert_exporter": "python",
   "pygments_lexer": "ipython3",
   "version": "3.7.13"
  }
 },
 "nbformat": 4,
 "nbformat_minor": 5
}
