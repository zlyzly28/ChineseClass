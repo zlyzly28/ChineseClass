{
 "cells": [
  {
   "cell_type": "code",
   "execution_count": 1,
   "id": "026d3eca-7c02-4812-b326-4263dfa1a3e3",
   "metadata": {
    "execution": {
     "iopub.execute_input": "2024-07-16T04:26:47.975397Z",
     "iopub.status.busy": "2024-07-16T04:26:47.975073Z",
     "iopub.status.idle": "2024-07-16T04:26:49.236368Z",
     "shell.execute_reply": "2024-07-16T04:26:49.235714Z",
     "shell.execute_reply.started": "2024-07-16T04:26:47.975377Z"
    },
    "tags": []
   },
   "outputs": [
    {
     "name": "stdout",
     "output_type": "stream",
     "text": [
      "Vocab size: 12678\n"
     ]
    },
    {
     "name": "stderr",
     "output_type": "stream",
     "text": [
      "8000it [00:00, 67541.40it/s]\n",
      "2653it [00:00, 68204.87it/s]\n"
     ]
    }
   ],
   "source": [
    "# coding: UTF-8\n",
    "import os\n",
    "import torch\n",
    "import numpy as np\n",
    "import pickle as pkl\n",
    "from tqdm import tqdm\n",
    "import time\n",
    "from datetime import timedelta\n",
    "import time\n",
    "import torch\n",
    "import numpy as np\n",
    "from train_eval import train, init_network\n",
    "from importlib import import_module\n",
    "import argparse\n",
    "dataset = 'Newtrain'  # 数据集\n",
    "\n",
    "# 搜狗新闻:embedding_SougouNews.npz, 腾讯:embedding_Tencent.npz, 随机初始化:random\n",
    "embedding = 'embedding_Newtrain_300.npz'\n",
    "\n",
    "model_name = 'TextRCNN'  # 'TextRCNN'  # TextCNN, TextRNN, FastText, TextRCNN, TextRNN_Att, DPCNN, Transformer\n",
    "\n",
    "\n",
    "x = import_module('models.' + model_name)\n",
    "config = x.Config(dataset, embedding)\n",
    "config.pad_size = 64\n",
    "\n",
    "MAX_VOCAB_SIZE = 20000  # 词表长度限制\n",
    "UNK, PAD = '<UNK>', '<PAD>'  # 未知字，padding符号\n",
    "ues_word = True\n",
    "from utils import get_time_dif, build_vocab, build_dataset2, build_iterator2\n",
    "\n",
    "\n",
    "vocab, train, test = build_dataset2(config, ues_word)"
   ]
  },
  {
   "cell_type": "code",
   "execution_count": 2,
   "id": "024f70f5-cb84-407e-baaa-5c223f6d5490",
   "metadata": {
    "execution": {
     "iopub.execute_input": "2024-07-16T04:26:51.576562Z",
     "iopub.status.busy": "2024-07-16T04:26:51.576127Z",
     "iopub.status.idle": "2024-07-16T04:26:51.594227Z",
     "shell.execute_reply": "2024-07-16T04:26:51.593705Z",
     "shell.execute_reply.started": "2024-07-16T04:26:51.576510Z"
    },
    "tags": []
   },
   "outputs": [
    {
     "name": "stdout",
     "output_type": "stream",
     "text": [
      "<bound method Module.parameters of Model(\n",
      "  (embedding): Embedding(12678, 300)\n",
      "  (lstm): LSTM(300, 256, batch_first=True, dropout=1.0, bidirectional=True)\n",
      "  (maxpool): MaxPool1d(kernel_size=64, stride=64, padding=0, dilation=1, ceil_mode=False)\n",
      "  (fc): Linear(in_features=812, out_features=10, bias=True)\n",
      ")>\n"
     ]
    },
    {
     "name": "stderr",
     "output_type": "stream",
     "text": [
      "/opt/conda/lib/python3.7/site-packages/torch/nn/modules/rnn.py:65: UserWarning: dropout option adds dropout after all but last recurrent layer, so non-zero dropout expects num_layers greater than 1, but got dropout=1.0 and num_layers=1\n",
      "  \"num_layers={}\".format(dropout, num_layers))\n"
     ]
    }
   ],
   "source": [
    "import torch.nn.functional as F\n",
    "\n",
    "\n",
    "train_iter = build_iterator2(train, config)\n",
    "test_iter = build_iterator2(test, config)\n",
    "# train_iter.__next__()\n",
    "config.n_vocab = len(vocab)\n",
    "model = x.Model(config).to(config.device)\n",
    "if model_name != 'Transformer':\n",
    "    init_network(model)\n",
    "print(model.parameters)"
   ]
  },
  {
   "cell_type": "code",
   "execution_count": null,
   "id": "531bd1d1-929e-4131-9980-de0e908199a0",
   "metadata": {
    "ExecutionIndicator": {
     "show": true
    },
    "execution": {
     "iopub.execute_input": "2024-07-16T04:26:53.580092Z",
     "iopub.status.busy": "2024-07-16T04:26:53.579708Z"
    },
    "tags": []
   },
   "outputs": [
    {
     "name": "stdout",
     "output_type": "stream",
     "text": [
      "Epoch [1/10]\n",
      "Iter:      0,  Train Loss:  0.69,  Train Acc: 45.62%,  Val Loss:  0.51,  Val Acc: 86.02%,  Time: 0:05:47 *improve\n",
      "Iter:      0,  Train precision: 52.68%,  Train recall: 51.00%,  Val precision: 51.66%,  Val recall: 50.63%,  Time: 0:05:47 *improve\n",
      "Iter:      1,  Train Loss:  0.53,  Train Acc: 83.67%,  Val Loss:   0.4,  Val Acc: 88.76%,  Time: 0:08:43 *improve\n",
      "Iter:      1,  Train precision: 51.34%,  Train recall: 51.70%,  Val precision: 44.40%,  Val recall: 49.98%,  Time: 0:08:43 *improve\n",
      "Iter:      2,  Train Loss:   0.4,  Train Acc: 89.22%,  Val Loss:  0.35,  Val Acc: 88.80%,  Time: 0:10:13 *improve\n",
      "Iter:      2,  Train precision: 49.87%,  Train recall: 44.71%,  Val precision: 44.40%,  Val recall: 50.00%,  Time: 0:10:13 *improve\n"
     ]
    }
   ],
   "source": [
    "import numpy as np\n",
    "import torch\n",
    "import json\n",
    "import torch.nn as nn\n",
    "import torch.nn.functional as F\n",
    "from sklearn import metrics\n",
    "import time\n",
    "from utils import get_time_dif\n",
    "from tensorboardX import SummaryWriter\n",
    "from collections import defaultdict\n",
    "def train_zhuti(config, model, train_iter, dev_iter):\n",
    "    start_time = time.time()\n",
    "    model.train()\n",
    "    optimizer = torch.optim.Adam(model.parameters(), lr=config.learning_rate)\n",
    "    loss_fn = nn.BCEWithLogitsLoss()\n",
    "    # 学习率指数衰减，每次epoch：学习率 = gamma * 学习率\n",
    "    # scheduler = torch.optim.lr_scheduler.ExponentialLR(optimizer, gamma=0.9)\n",
    "    total_batch = 0  # 记录进行到多少batch\n",
    "    dev_best_loss = float('inf')\n",
    "    alpha = 0.5\n",
    "    last_improve = 0  # 记录上次验证集loss下降的batch数\n",
    "    flag = False  # 记录是否很久没有效果提升\n",
    "    train_dict = defaultdict(list)\n",
    "    test_dict = defaultdict(list)\n",
    "    \n",
    "    writer = SummaryWriter(log_dir=config.log_path + '/' + time.strftime('%m-%d_%H.%M', time.localtime()))\n",
    "    for epoch in range(config.num_epochs):\n",
    "        print('Epoch [{}/{}]'.format(epoch + 1, config.num_epochs))\n",
    "        # scheduler.step() # 学习率衰减\n",
    "        for i, (trains, qinggan_label, zhuti_label) in enumerate(train_iter):\n",
    "            outputs = model(trains)\n",
    "            model.zero_grad()\n",
    "            # loss = F.cross_entropy(outputs, qinggan_label)\n",
    "            zhuti_label = zhuti_label.float()\n",
    "            # print(outputs, zhuti_label)\n",
    "            loss = loss_fn(outputs, zhuti_label)\n",
    "            loss.backward()\n",
    "            optimizer.step()\n",
    "            if total_batch % 1 == 0:\n",
    "                # 每多少轮输出在训练集和验证集上的效果\n",
    "                predic = (torch.sigmoid(outputs) > alpha).float()\n",
    "                # true = qinggan_label.data.cpu()\n",
    "                # predic = torch.max(outputs.data, 1)[1].cpu()\n",
    "                             \n",
    "                train_acc = metrics.accuracy_score(predic.view(-1), zhuti_label.view(-1))\n",
    "                train_precision = metrics.precision_score(predic.view(-1), zhuti_label.view(-1), average='macro', zero_division=0)\n",
    "                train_recall = metrics.recall_score(predic.view(-1), zhuti_label.view(-1), average='macro', zero_division=0)\n",
    "                   \n",
    "                dev_acc, dev_loss, dev_p, dev_r = evaluate_zhuti(config, model, dev_iter)\n",
    "                                \n",
    "                if dev_loss < dev_best_loss:\n",
    "                    dev_best_loss = dev_loss\n",
    "                    torch.save(model.state_dict(), config.save_path)\n",
    "                    improve = '*improve'\n",
    "                    last_improve = total_batch\n",
    "                else:\n",
    "                    improve = ''\n",
    "                time_dif = get_time_dif(start_time)\n",
    "                msg = 'Iter: {0:>6},  Train Loss: {1:>5.2},  Train Acc: {2:>6.2%},  Val Loss: {3:>5.2},  Val Acc: {4:>6.2%},  Time: {5} {6}'\n",
    "                print(msg.format(total_batch, loss.item(), train_acc, dev_loss, dev_acc, time_dif, improve))\n",
    "                msg2 = 'Iter: {0:>6},  Train precision: {1:>5.2%},  Train recall: {2:>6.2%},  Val precision: {3:>5.2%},  Val recall: {4:>6.2%},  Time: {5} {6}'\n",
    "                print(msg2.format(total_batch, train_precision, train_recall, dev_p, dev_r, time_dif, improve))\n",
    "                writer.add_scalar(\"loss/train\", loss.item(), total_batch)\n",
    "                writer.add_scalar(\"loss/dev\", dev_loss, total_batch)\n",
    "                writer.add_scalar(\"acc/train\", train_acc, total_batch)\n",
    "                writer.add_scalar(\"precision/train\", train_precision, total_batch)\n",
    "                writer.add_scalar(\"recall/train\", train_recall, total_batch)\n",
    "                writer.add_scalar(\"acc/dev\", dev_acc, total_batch)\n",
    "                writer.add_scalar(\"precision/dev\", dev_p, total_batch)\n",
    "                writer.add_scalar(\"recall/dev\", dev_r, total_batch)\n",
    "                train_dict['train_loss'].append(loss.item())   \n",
    "                train_dict['train_acc'].append(train_acc)\n",
    "                train_dict['train_precision'].append(train_precision)\n",
    "                train_dict['train_recall'].append(train_recall)\n",
    "                test_dict['dev_acc'].append(dev_acc)\n",
    "                test_dict['dev_loss'].append(dev_loss.item())\n",
    "                test_dict['dev_precision'].append(dev_p)\n",
    "                test_dict['dev_recall'].append(dev_r)\n",
    "                with open(config.log_path + '/train_dict.json', 'w') as json_file:\n",
    "                    json.dump(train_dict, json_file, indent=4)  # indent参数使输出更加易读\n",
    "                with open(config.log_path + '/test_dict.json', 'w') as json_file:\n",
    "                    json.dump(test_dict, json_file, indent=4)  # indent参数使输出更加易读\n",
    "                model.train()\n",
    "            total_batch += 1\n",
    "            if total_batch - last_improve > config.require_improvement:\n",
    "                # 验证集loss超过1000batch没下降，结束训练\n",
    "                print(\"No optimization for a long time, auto-stopping...\")\n",
    "                flag = True\n",
    "                break\n",
    "        if flag:\n",
    "            break\n",
    "    writer.close()\n",
    "def evaluate_zhuti(config, model, data_iter, test=False):\n",
    "    model.eval()\n",
    "    loss_total = 0\n",
    "    alpha = 0.5\n",
    "    predict_all = np.array([], dtype=int)\n",
    "    labels_all = np.array([], dtype=int)\n",
    "    loss_fn = nn.BCEWithLogitsLoss()\n",
    "    with torch.no_grad():\n",
    "        for texts, qinggan_label, zhuti_label in data_iter:\n",
    "            outputs = model(texts)\n",
    "            zhuti_label = zhuti_label.float()\n",
    "            loss = loss_fn(outputs, zhuti_label)\n",
    "            loss_total += loss\n",
    "            labels = zhuti_label.data.cpu().numpy()\n",
    "            # predic = torch.max(outputs.data, 1)[1].cpu().numpy()\n",
    "            predic = (torch.sigmoid(outputs) > alpha).float().cpu().numpy()\n",
    "            labels_all = np.append(labels_all, labels)\n",
    "            predict_all = np.append(predict_all, predic)\n",
    "\n",
    "    acc = metrics.accuracy_score(labels_all.ravel(), predict_all.ravel())\n",
    "    precision = metrics.precision_score(labels_all.ravel(), predict_all.ravel(), average='macro', zero_division=0)\n",
    "    recall = metrics.recall_score(labels_all.ravel(), predict_all.ravel(), average='macro', zero_division=0)\n",
    "    if test:\n",
    "        report = metrics.classification_report(labels_all, predict_all, target_names=config.class_list, digits=4)\n",
    "        confusion = metrics.confusion_matrix(labels_all, predict_all)\n",
    "        return acc, loss_total / len(data_iter), report, confusion\n",
    "    return acc, loss_total / len(data_iter), precision, recall\n",
    "train_zhuti(config, model, train_iter, test_iter)"
   ]
  },
  {
   "cell_type": "code",
   "execution_count": 2,
   "id": "2d611a54-4118-4a2e-a0a1-82aff7399a96",
   "metadata": {
    "ExecutionIndicator": {
     "show": true
    },
    "execution": {
     "iopub.execute_input": "2024-07-16T03:58:37.344953Z",
     "iopub.status.busy": "2024-07-16T03:58:37.344612Z",
     "iopub.status.idle": "2024-07-16T03:58:37.351125Z",
     "shell.execute_reply": "2024-07-16T03:58:37.350658Z",
     "shell.execute_reply.started": "2024-07-16T03:58:37.344934Z"
    },
    "tags": []
   },
   "outputs": [
    {
     "data": {
      "text/plain": [
       "(0.25, 0.16666666666666666, 0.25)"
      ]
     },
     "execution_count": 2,
     "metadata": {},
     "output_type": "execute_result"
    }
   ],
   "source": [
    "from sklearn import metrics\n",
    "def APH(y_true, y_pred):\n",
    "    return metrics.accuracy_score(y_true, y_pred), \\\n",
    "           metrics.precision_score(y_true, y_pred, average='macro'), metrics.recall_score(y_true, y_pred, average='macro')\n",
    "APH([0,1,1,1,0, 0, 0, 1],[0,0,0,0,1, 1, 0, 0])"
   ]
  },
  {
   "cell_type": "code",
   "execution_count": 6,
   "id": "a4873d4f-cc77-4bfe-a550-9122d8c38fb8",
   "metadata": {
    "ExecutionIndicator": {
     "show": true
    },
    "execution": {
     "iopub.execute_input": "2024-07-16T03:15:16.719093Z",
     "iopub.status.busy": "2024-07-16T03:15:16.718759Z",
     "iopub.status.idle": "2024-07-16T03:15:16.723844Z",
     "shell.execute_reply": "2024-07-16T03:15:16.723266Z",
     "shell.execute_reply.started": "2024-07-16T03:15:16.719074Z"
    },
    "tags": []
   },
   "outputs": [],
   "source": [
    "z = train_iter.__next__()[2]"
   ]
  },
  {
   "cell_type": "code",
   "execution_count": 12,
   "id": "ee07a3fa-5d44-4ff3-be52-e664fd732864",
   "metadata": {
    "ExecutionIndicator": {
     "show": true
    },
    "execution": {
     "iopub.execute_input": "2024-07-16T03:16:46.452050Z",
     "iopub.status.busy": "2024-07-16T03:16:46.451709Z",
     "iopub.status.idle": "2024-07-16T03:16:46.454851Z",
     "shell.execute_reply": "2024-07-16T03:16:46.454338Z",
     "shell.execute_reply.started": "2024-07-16T03:16:46.452030Z"
    },
    "tags": []
   },
   "outputs": [],
   "source": [
    "z = z.float()"
   ]
  },
  {
   "cell_type": "code",
   "execution_count": 13,
   "id": "e03bb22f-44ab-4710-a0dd-ed88fb24c4c2",
   "metadata": {
    "ExecutionIndicator": {
     "show": true
    },
    "execution": {
     "iopub.execute_input": "2024-07-16T03:16:47.732066Z",
     "iopub.status.busy": "2024-07-16T03:16:47.731713Z",
     "iopub.status.idle": "2024-07-16T03:16:47.737725Z",
     "shell.execute_reply": "2024-07-16T03:16:47.737219Z",
     "shell.execute_reply.started": "2024-07-16T03:16:47.732046Z"
    },
    "tags": []
   },
   "outputs": [
    {
     "name": "stdout",
     "output_type": "stream",
     "text": [
      "Random Logits:\n",
      " tensor([[ 1.9269,  1.4873,  0.9007,  ..., -1.6047, -0.7521,  1.6487],\n",
      "        [-0.3925, -1.4036, -0.7279,  ..., -0.1596, -0.4974,  0.4396],\n",
      "        [-0.7581,  1.0783,  0.8008,  ...,  1.3347, -0.2316,  0.0418],\n",
      "        ...,\n",
      "        [-0.7691,  0.0793, -0.7585,  ..., -1.1371, -0.7582,  0.0423],\n",
      "        [-0.6901, -0.5622,  0.8253,  ...,  1.0238,  0.9575,  0.0191],\n",
      "        [-1.0700, -0.7519,  2.4401,  ..., -0.1173, -0.6305, -1.2655]])\n",
      "Calculated Loss: 0.8070029020309448\n"
     ]
    }
   ],
   "source": [
    "import torch\n",
    "import torch.nn as nn\n",
    "\n",
    "# 设置随机种子以获得可复现的结果\n",
    "torch.manual_seed(42)\n",
    "\n",
    "# 假设我们有4个样本，每个样本有5个类别，可能同时属于多个类别\n",
    "num_samples = 128\n",
    "num_classes = 10\n",
    "\n",
    "# 随机生成预测logits（未经过sigmoid激活）\n",
    "random_logits = torch.randn(num_samples, num_classes)\n",
    "\n",
    "# 随机生成真实标签，这里用0或1表示不属于或属于某个类别，对于多标签任务，一个样本可以有多个类别为1\n",
    "random_labels = torch.bernoulli(torch.rand(num_samples, num_classes)).float()\n",
    "\n",
    "# 初始化 BCEWithLogitsLoss 损失函数\n",
    "loss_fn = nn.BCEWithLogitsLoss()\n",
    "\n",
    "# 计算损失\n",
    "loss = loss_fn(random_logits, z)\n",
    "\n",
    "print(\"Random Logits:\\n\", random_logits)\n",
    "# print(\"Random Labels:\\n\", random_labels)\n",
    "print(\"Calculated Loss:\", loss.item())"
   ]
  },
  {
   "cell_type": "code",
   "execution_count": 39,
   "id": "35840bce-ce42-4ee5-82e6-229bf85065a7",
   "metadata": {
    "ExecutionIndicator": {
     "show": true
    },
    "execution": {
     "iopub.execute_input": "2024-07-16T02:42:05.375683Z",
     "iopub.status.busy": "2024-07-16T02:42:05.375231Z",
     "iopub.status.idle": "2024-07-16T02:42:05.379775Z",
     "shell.execute_reply": "2024-07-16T02:42:05.379201Z",
     "shell.execute_reply.started": "2024-07-16T02:42:05.375643Z"
    },
    "tags": []
   },
   "outputs": [],
   "source": [
    "def Predict(outputs, alpha=0.5):\n",
    "    predic = (torch.sigmoid(outputs) > alpha).float()\n",
    "\n",
    "    return predic.cpu()\n",
    "p = Predict(random_logits)"
   ]
  },
  {
   "cell_type": "code",
   "execution_count": 40,
   "id": "7422c77b-cbd0-416f-a46d-45218236e924",
   "metadata": {
    "ExecutionIndicator": {
     "show": false
    },
    "execution": {
     "iopub.execute_input": "2024-07-16T02:42:09.171875Z",
     "iopub.status.busy": "2024-07-16T02:42:09.171566Z",
     "iopub.status.idle": "2024-07-16T02:42:09.179304Z",
     "shell.execute_reply": "2024-07-16T02:42:09.178793Z",
     "shell.execute_reply.started": "2024-07-16T02:42:09.171852Z"
    },
    "tags": []
   },
   "outputs": [
    {
     "data": {
      "text/plain": [
       "((0.6, 0.5858585858585859, 0.5934065934065934),\n",
       " tensor([[1., 0., 0., 1., 0.],\n",
       "         [1., 0., 0., 1., 1.],\n",
       "         [0., 0., 0., 0., 0.],\n",
       "         [1., 0., 0., 0., 1.]]),\n",
       " tensor([[1., 0., 0., 0., 1.],\n",
       "         [1., 1., 0., 0., 1.],\n",
       "         [0., 1., 0., 0., 1.],\n",
       "         [1., 1., 0., 0., 0.]]))"
      ]
     },
     "execution_count": 40,
     "metadata": {},
     "output_type": "execute_result"
    }
   ],
   "source": [
    "APH(p.view(-1), random_labels.view(-1)), p, random_labels"
   ]
  }
 ],
 "metadata": {
  "kernelspec": {
   "display_name": "Python 3 (ipykernel)",
   "language": "python",
   "name": "python3"
  },
  "language_info": {
   "codemirror_mode": {
    "name": "ipython",
    "version": 3
   },
   "file_extension": ".py",
   "mimetype": "text/x-python",
   "name": "python",
   "nbconvert_exporter": "python",
   "pygments_lexer": "ipython3",
   "version": "3.7.13"
  }
 },
 "nbformat": 4,
 "nbformat_minor": 5
}
